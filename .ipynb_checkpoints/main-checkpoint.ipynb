{
 "cells": [
  {
   "cell_type": "markdown",
   "metadata": {},
   "source": [
    "# Twitter Data Analysis"
   ]
  },
  {
   "cell_type": "code",
   "execution_count": 22,
   "metadata": {},
   "outputs": [],
   "source": [
    "from twython import Twython\n",
    "import time\n",
    "import math\n",
    "\n",
    "def twitter_oauth_login():\n",
    "    API_KEY = '0PXGjABM0MBvuIorEJF37MjtR'\n",
    "    API_SECRET = 'NVkG6W75xGAlgCa6dMg1vmH1K8iZOLIuc9sqFoR7iLwKukAnkD'\n",
    "    ACCESS_TOKEN = '1548649856-wQnlcp8FgrtbmMLdTTBBfVP9EkM5KUIyoswjrxU'\n",
    "    ACCESS_TOKEN_SECRET = 'dBRn8dYIrsNCDsnvw4ubnvKtv6av9Ua68GL3PeayRFLmg'\n",
    "    twitter = Twython(API_KEY,API_SECRET,ACCESS_TOKEN,ACCESS_TOKEN_SECRET)\n",
    "    return twitter"
   ]
  },
  {
   "cell_type": "code",
   "execution_count": 5,
   "metadata": {},
   "outputs": [],
   "source": [
    "twitter = twitter_oauth_login()\n",
    "friends_ids = twitter.get_friends_ids(count=5000)\n",
    "friends_ids = friends_ids['ids']\n",
    "followers_ids = twitter.get_followers_ids(count=5000)\n",
    "followers_ids = followers_ids['ids']"
   ]
  },
  {
   "cell_type": "code",
   "execution_count": 10,
   "metadata": {},
   "outputs": [
    {
     "name": "stdout",
     "output_type": "stream",
     "text": [
      "Number of Twitter users who either are our friend or follow you:\n",
      "28\n",
      "Number of Twitter users who follow you and are your friend:\n",
      "2\n",
      "Number of Twitter users you follow that don't follow you:\n",
      "26\n",
      "Number of Twitter users who follow you that you don't follow:\n",
      "0\n"
     ]
    }
   ],
   "source": [
    "friends_set = set(friends_ids)\n",
    "followers_set = set(followers_ids)\n",
    "\n",
    "print('Number of Twitter users who either are our friend or follow you:')\n",
    "print(len(friends_set.union(followers_set)))\n",
    "\n",
    "print('Number of Twitter users who follow you and are your friend:')\n",
    "print(len(friends_set & followers_set))\n",
    "\n",
    "print('Number of Twitter users you follow that don\\'t follow you:')\n",
    "print(len(friends_set - followers_set))\n",
    "\n",
    "print('Number of Twitter users who follow you that you don\\'t follow:')\n",
    "print(len(followers_set - friends_set))"
   ]
  },
  {
   "cell_type": "code",
   "execution_count": 20,
   "metadata": {},
   "outputs": [],
   "source": [
    "def pull_users_profiles(ids):\n",
    "    users = []\n",
    "    for i in range(0,len(ids),100):\n",
    "        batch = ids[i:i+100]\n",
    "        users += twitter.lookup_user(user_id=batch)\n",
    "    return users"
   ]
  },
  {
   "cell_type": "code",
   "execution_count": null,
   "metadata": {},
   "outputs": [],
   "source": [
    "def pull_users_profiles_limit_aware(ids):\n",
    "    users = []\n",
    "    start_time = time.time()\n",
    "    # Must look up users in\n",
    "    for i in range(0, len(ids), 10):\n",
    "        batch = ids[i:i + 10]\n",
    "        users += twitter.lookup_user(user_id=batch)\n",
    "        calls_left = float(twitter.get_lastfunction_header('X-Rate-Limit-Remaining'))\n",
    "        time_remaining_in_window = rate_limit_window - (time.time()-start_time)\n",
    "        sleep_duration = math.ceil(time_remaining_in_window/calls_left)\n",
    "        print('Sleeping for: ' + str(sleep_duration) + ' seconds; ' +\n",
    "        str(calls_left) + ' API calls remaining')\n",
    "        time.sleep(sleep_duration)\n",
    "    return users"
   ]
  },
  {
   "cell_type": "code",
   "execution_count": 21,
   "metadata": {},
   "outputs": [
    {
     "name": "stdout",
     "output_type": "stream",
     "text": [
      "['Tesla', 'BarackObama', 'cyyy0411', 'phebeshi', 'invincible_Dong', 'Xiao_CharlieXC', 'RainieLiuuu', 'NASA', 'Google', 'JINZANG999', 'BravoZhuang', 'Dongqi_Fu', 'MrAncelotti', 'officialpepe', 'RealMadridWorld', 'MarceloM12', 'Real_Madrid__CF', 'G_Higuain', 'MesutOzil1088', 'lafabricacrm', 'aarbeloa17', 'SergioRamos', 'Cristiano', 'RealPotterFans', 'EmmaWatson', 'britneyspears', 'KingJames', 'taylorswift13']\n"
     ]
    }
   ],
   "source": [
    "friends_profiles = pull_users_profiles(friends_ids)\n",
    "followers_profile = pull_users_profiles(followers_ids)\n",
    "\n",
    "friends_screen_names = [p.get('screen_name') for p in friends_profiles]\n",
    "print(friends_screen_names)"
   ]
  },
  {
   "cell_type": "code",
   "execution_count": null,
   "metadata": {},
   "outputs": [],
   "source": []
  }
 ],
 "metadata": {
  "kernelspec": {
   "display_name": "Python 3",
   "language": "python",
   "name": "python3"
  },
  "language_info": {
   "codemirror_mode": {
    "name": "ipython",
    "version": 3
   },
   "file_extension": ".py",
   "mimetype": "text/x-python",
   "name": "python",
   "nbconvert_exporter": "python",
   "pygments_lexer": "ipython3",
   "version": "3.6.4"
  }
 },
 "nbformat": 4,
 "nbformat_minor": 2
}
