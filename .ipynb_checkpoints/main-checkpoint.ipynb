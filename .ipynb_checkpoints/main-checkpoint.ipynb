{
 "cells": [
  {
   "cell_type": "markdown",
   "metadata": {},
   "source": [
    "# Twitter Data Analysis"
   ]
  },
  {
   "cell_type": "code",
   "execution_count": 1,
   "metadata": {},
   "outputs": [],
   "source": [
    "from twython import Twython\n",
    "import time\n",
    "import math\n",
    "\n",
    "def twitter_oauth_login():\n",
    "    API_KEY = '0PXGjABM0MBvuIorEJF37MjtR'\n",
    "    API_SECRET = 'NVkG6W75xGAlgCa6dMg1vmH1K8iZOLIuc9sqFoR7iLwKukAnkD'\n",
    "    ACCESS_TOKEN = '1548649856-wQnlcp8FgrtbmMLdTTBBfVP9EkM5KUIyoswjrxU'\n",
    "    ACCESS_TOKEN_SECRET = 'dBRn8dYIrsNCDsnvw4ubnvKtv6av9Ua68GL3PeayRFLmg'\n",
    "    twitter = Twython(API_KEY,API_SECRET,ACCESS_TOKEN,ACCESS_TOKEN_SECRET)\n",
    "    return twitter"
   ]
  },
  {
   "cell_type": "code",
   "execution_count": 2,
   "metadata": {},
   "outputs": [],
   "source": [
    "twitter = twitter_oauth_login()\n",
    "friends_ids = twitter.get_friends_ids(count=5000)\n",
    "friends_ids = friends_ids['ids']\n",
    "followers_ids = twitter.get_followers_ids(count=5000)\n",
    "followers_ids = followers_ids['ids']"
   ]
  },
  {
   "cell_type": "code",
   "execution_count": 3,
   "metadata": {},
   "outputs": [
    {
     "name": "stdout",
     "output_type": "stream",
     "text": [
      "Number of Twitter users who either are our friend or follow you:\n",
      "28\n",
      "Number of Twitter users who follow you and are your friend:\n",
      "2\n",
      "Number of Twitter users you follow that don't follow you:\n",
      "26\n",
      "Number of Twitter users who follow you that you don't follow:\n",
      "0\n"
     ]
    }
   ],
   "source": [
    "friends_set = set(friends_ids)\n",
    "followers_set = set(followers_ids)\n",
    "\n",
    "print('Number of Twitter users who either are our friend or follow you:')\n",
    "print(len(friends_set.union(followers_set)))\n",
    "\n",
    "print('Number of Twitter users who follow you and are your friend:')\n",
    "print(len(friends_set & followers_set))\n",
    "\n",
    "print('Number of Twitter users you follow that don\\'t follow you:')\n",
    "print(len(friends_set - followers_set))\n",
    "\n",
    "print('Number of Twitter users who follow you that you don\\'t follow:')\n",
    "print(len(followers_set - friends_set))"
   ]
  },
  {
   "cell_type": "code",
   "execution_count": 4,
   "metadata": {},
   "outputs": [],
   "source": [
    "def pull_users_profiles(ids):\n",
    "    users = []\n",
    "    for i in range(0,len(ids),100):\n",
    "        batch = ids[i:i+100]\n",
    "        users += twitter.lookup_user(user_id=batch)\n",
    "    return users"
   ]
  },
  {
   "cell_type": "code",
   "execution_count": 5,
   "metadata": {},
   "outputs": [],
   "source": [
    "def pull_users_profiles_limit_aware(ids):\n",
    "    users = []\n",
    "    start_time = time.time()\n",
    "    # Must look up users in\n",
    "    for i in range(0, len(ids), 10):\n",
    "        batch = ids[i:i + 10]\n",
    "        users += twitter.lookup_user(user_id=batch)\n",
    "        calls_left = float(twitter.get_lastfunction_header('X-Rate-Limit-Remaining'))\n",
    "        time_remaining_in_window = rate_limit_window - (time.time()-start_time)\n",
    "        sleep_duration = math.ceil(time_remaining_in_window/calls_left)\n",
    "        print('Sleeping for: ' + str(sleep_duration) + ' seconds; ' +\n",
    "        str(calls_left) + ' API calls remaining')\n",
    "        time.sleep(sleep_duration)\n",
    "    return users"
   ]
  },
  {
   "cell_type": "code",
   "execution_count": 6,
   "metadata": {},
   "outputs": [
    {
     "name": "stdout",
     "output_type": "stream",
     "text": [
      "['Tesla', 'BarackObama', 'cyyy0411', 'phebeshi', 'invincible_Dong', 'Xiao_CharlieXC', 'RainieLiuuu', 'NASA', 'Google', 'JINZANG999', 'BravoZhuang', 'Dongqi_Fu', 'MrAncelotti', 'officialpepe', 'RealMadridWorld', 'MarceloM12', 'Real_Madrid__CF', 'G_Higuain', 'MesutOzil1088', 'lafabricacrm', 'aarbeloa17', 'SergioRamos', 'Cristiano', 'RealPotterFans', 'EmmaWatson', 'britneyspears', 'KingJames', 'taylorswift13']\n"
     ]
    }
   ],
   "source": [
    "friends_profiles = pull_users_profiles(friends_ids)\n",
    "followers_profile = pull_users_profiles(followers_ids)\n",
    "\n",
    "friends_screen_names = [p.get('screen_name') for p in friends_profiles]\n",
    "print(friends_screen_names)"
   ]
  },
  {
   "cell_type": "code",
   "execution_count": 9,
   "metadata": {},
   "outputs": [],
   "source": [
    "import json\n",
    "\n",
    "def save_json(filename,data):\n",
    "    with open(filename,\"w\", encoding=\"utf8\") as outfile:\n",
    "        json.dump(data,outfile)\n",
    "        \n",
    "\n",
    "def load_json(filename):\n",
    "    with open(filename) as infile:\n",
    "        data = json.load(infile)\n",
    "    return data"
   ]
  },
  {
   "cell_type": "code",
   "execution_count": 11,
   "metadata": {},
   "outputs": [
    {
     "name": "stdout",
     "output_type": "stream",
     "text": [
      "{'id': 13298072, 'id_str': '13298072', 'name': 'Tesla', 'screen_name': 'Tesla', 'location': '', 'description': 'Electric cars, giant batteries and solar', 'url': 'https://t.co/MxFwoUXrrG', 'entities': {'url': {'urls': [{'url': 'https://t.co/MxFwoUXrrG', 'expanded_url': 'http://ts.la/w0i', 'display_url': 'ts.la/w0i', 'indices': [0, 23]}]}, 'description': {'urls': []}}, 'protected': False, 'followers_count': 2325448, 'friends_count': 128, 'listed_count': 11314, 'created_at': 'Sun Feb 10 01:12:32 +0000 2008', 'favourites_count': 1784, 'utc_offset': -28800, 'time_zone': 'Pacific Time (US & Canada)', 'geo_enabled': True, 'verified': True, 'statuses_count': 6441, 'lang': 'en', 'status': {'created_at': 'Thu Feb 01 03:51:49 +0000 2018', 'id': 958910735567826944, 'id_str': '958910735567826944', 'text': '.@MKBHD reviews Model 3 https://t.co/kA4Gs5O0Ps', 'truncated': False, 'entities': {'hashtags': [], 'symbols': [], 'user_mentions': [{'screen_name': 'MKBHD', 'name': 'Marques Brownlee', 'id': 29873662, 'id_str': '29873662', 'indices': [1, 7]}], 'urls': [{'url': 'https://t.co/kA4Gs5O0Ps', 'expanded_url': 'https://www.youtube.com/watch?v=9O5PhuW927w', 'display_url': 'youtube.com/watch?v=9O5Phu…', 'indices': [24, 47]}]}, 'source': '<a href=\"http://twitter.com\" rel=\"nofollow\">Twitter Web Client</a>', 'in_reply_to_status_id': None, 'in_reply_to_status_id_str': None, 'in_reply_to_user_id': None, 'in_reply_to_user_id_str': None, 'in_reply_to_screen_name': None, 'geo': None, 'coordinates': None, 'place': None, 'contributors': None, 'is_quote_status': False, 'retweet_count': 1042, 'favorite_count': 10097, 'favorited': False, 'retweeted': False, 'possibly_sensitive': False, 'lang': 'en'}, 'contributors_enabled': False, 'is_translator': False, 'is_translation_enabled': False, 'profile_background_color': '666666', 'profile_background_image_url': 'http://pbs.twimg.com/profile_background_images/812177545/c69f76a0142059d01f86203029dbaf6e.png', 'profile_background_image_url_https': 'https://pbs.twimg.com/profile_background_images/812177545/c69f76a0142059d01f86203029dbaf6e.png', 'profile_background_tile': False, 'profile_image_url': 'http://pbs.twimg.com/profile_images/489192650474414080/4RxZxsud_normal.png', 'profile_image_url_https': 'https://pbs.twimg.com/profile_images/489192650474414080/4RxZxsud_normal.png', 'profile_banner_url': 'https://pbs.twimg.com/profile_banners/13298072/1475753303', 'profile_link_color': 'C90000', 'profile_sidebar_border_color': 'FFFFFF', 'profile_sidebar_fill_color': 'F5EDF5', 'profile_text_color': '555555', 'profile_use_background_image': True, 'has_extended_profile': False, 'default_profile': False, 'default_profile_image': False, 'following': True, 'follow_request_sent': False, 'notifications': False, 'translator_type': 'none'}\n"
     ]
    }
   ],
   "source": [
    "#Test on json script\n",
    "fname = 'test_friends_profile.json'\n",
    "save_json(fname, friends_profiles)\n",
    "test_load = load_json(fname)\n",
    "print(test_load[0])"
   ]
  },
  {
   "cell_type": "code",
   "execution_count": null,
   "metadata": {},
   "outputs": [],
   "source": []
  }
 ],
 "metadata": {
  "kernelspec": {
   "display_name": "Python 3",
   "language": "python",
   "name": "python3"
  },
  "language_info": {
   "codemirror_mode": {
    "name": "ipython",
    "version": 3
   },
   "file_extension": ".py",
   "mimetype": "text/x-python",
   "name": "python",
   "nbconvert_exporter": "python",
   "pygments_lexer": "ipython3",
   "version": "3.6.4"
  }
 },
 "nbformat": 4,
 "nbformat_minor": 2
}
